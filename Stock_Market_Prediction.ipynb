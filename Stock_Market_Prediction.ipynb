{
 "cells": [
  {
   "cell_type": "code",
   "execution_count": 1,
   "id": "3eb19e39",
   "metadata": {},
   "outputs": [],
   "source": [
    "# Import the libraries\n",
    "import pandas as pd\n",
    "import numpy as np\n",
    "import matplotlib.pyplot as plt\n",
    "import math\n",
    "#import pandas_datareader as web\n",
    "from pandas_datareader import data as pdr\n",
    "import yfinance as yf\n",
    "from sklearn.preprocessing import MinMaxScaler\n",
    "from keras.models import Sequential\n",
    "from keras.layers import Dense, LSTM\n",
    "plt.style.use('fivethirtyeight')"
   ]
  },
  {
   "cell_type": "code",
   "execution_count": 3,
   "id": "2b1a025b",
   "metadata": {},
   "outputs": [
    {
     "name": "stdout",
     "output_type": "stream",
     "text": [
      "[*********************100%***********************]  1 of 1 completed\n"
     ]
    },
    {
     "data": {
      "text/html": [
       "<div>\n",
       "<style scoped>\n",
       "    .dataframe tbody tr th:only-of-type {\n",
       "        vertical-align: middle;\n",
       "    }\n",
       "\n",
       "    .dataframe tbody tr th {\n",
       "        vertical-align: top;\n",
       "    }\n",
       "\n",
       "    .dataframe thead th {\n",
       "        text-align: right;\n",
       "    }\n",
       "</style>\n",
       "<table border=\"1\" class=\"dataframe\">\n",
       "  <thead>\n",
       "    <tr style=\"text-align: right;\">\n",
       "      <th></th>\n",
       "      <th>Open</th>\n",
       "      <th>High</th>\n",
       "      <th>Low</th>\n",
       "      <th>Close</th>\n",
       "      <th>Adj Close</th>\n",
       "      <th>Volume</th>\n",
       "    </tr>\n",
       "    <tr>\n",
       "      <th>Date</th>\n",
       "      <th></th>\n",
       "      <th></th>\n",
       "      <th></th>\n",
       "      <th></th>\n",
       "      <th></th>\n",
       "      <th></th>\n",
       "    </tr>\n",
       "  </thead>\n",
       "  <tbody>\n",
       "    <tr>\n",
       "      <th>2012-01-03</th>\n",
       "      <td>14.621429</td>\n",
       "      <td>14.732143</td>\n",
       "      <td>14.607143</td>\n",
       "      <td>14.686786</td>\n",
       "      <td>12.610315</td>\n",
       "      <td>302220800</td>\n",
       "    </tr>\n",
       "    <tr>\n",
       "      <th>2012-01-04</th>\n",
       "      <td>14.642857</td>\n",
       "      <td>14.810000</td>\n",
       "      <td>14.617143</td>\n",
       "      <td>14.765714</td>\n",
       "      <td>12.678085</td>\n",
       "      <td>260022000</td>\n",
       "    </tr>\n",
       "    <tr>\n",
       "      <th>2012-01-05</th>\n",
       "      <td>14.819643</td>\n",
       "      <td>14.948214</td>\n",
       "      <td>14.738214</td>\n",
       "      <td>14.929643</td>\n",
       "      <td>12.818838</td>\n",
       "      <td>271269600</td>\n",
       "    </tr>\n",
       "    <tr>\n",
       "      <th>2012-01-06</th>\n",
       "      <td>14.991786</td>\n",
       "      <td>15.098214</td>\n",
       "      <td>14.972143</td>\n",
       "      <td>15.085714</td>\n",
       "      <td>12.952841</td>\n",
       "      <td>318292800</td>\n",
       "    </tr>\n",
       "    <tr>\n",
       "      <th>2012-01-09</th>\n",
       "      <td>15.196429</td>\n",
       "      <td>15.276786</td>\n",
       "      <td>15.048214</td>\n",
       "      <td>15.061786</td>\n",
       "      <td>12.932299</td>\n",
       "      <td>394024400</td>\n",
       "    </tr>\n",
       "    <tr>\n",
       "      <th>...</th>\n",
       "      <td>...</td>\n",
       "      <td>...</td>\n",
       "      <td>...</td>\n",
       "      <td>...</td>\n",
       "      <td>...</td>\n",
       "      <td>...</td>\n",
       "    </tr>\n",
       "    <tr>\n",
       "      <th>2021-08-11</th>\n",
       "      <td>146.050003</td>\n",
       "      <td>146.720001</td>\n",
       "      <td>145.529999</td>\n",
       "      <td>145.860001</td>\n",
       "      <td>145.860001</td>\n",
       "      <td>48493500</td>\n",
       "    </tr>\n",
       "    <tr>\n",
       "      <th>2021-08-12</th>\n",
       "      <td>146.190002</td>\n",
       "      <td>149.050003</td>\n",
       "      <td>145.839996</td>\n",
       "      <td>148.889999</td>\n",
       "      <td>148.889999</td>\n",
       "      <td>72282600</td>\n",
       "    </tr>\n",
       "    <tr>\n",
       "      <th>2021-08-13</th>\n",
       "      <td>148.970001</td>\n",
       "      <td>149.440002</td>\n",
       "      <td>148.270004</td>\n",
       "      <td>149.100006</td>\n",
       "      <td>149.100006</td>\n",
       "      <td>59318800</td>\n",
       "    </tr>\n",
       "    <tr>\n",
       "      <th>2021-08-16</th>\n",
       "      <td>148.539993</td>\n",
       "      <td>151.190002</td>\n",
       "      <td>146.470001</td>\n",
       "      <td>151.119995</td>\n",
       "      <td>151.119995</td>\n",
       "      <td>103296000</td>\n",
       "    </tr>\n",
       "    <tr>\n",
       "      <th>2021-08-17</th>\n",
       "      <td>150.229996</td>\n",
       "      <td>151.679993</td>\n",
       "      <td>149.089996</td>\n",
       "      <td>150.190002</td>\n",
       "      <td>150.190002</td>\n",
       "      <td>92229700</td>\n",
       "    </tr>\n",
       "  </tbody>\n",
       "</table>\n",
       "<p>2422 rows × 6 columns</p>\n",
       "</div>"
      ],
      "text/plain": [
       "                  Open        High         Low       Close   Adj Close  \\\n",
       "Date                                                                     \n",
       "2012-01-03   14.621429   14.732143   14.607143   14.686786   12.610315   \n",
       "2012-01-04   14.642857   14.810000   14.617143   14.765714   12.678085   \n",
       "2012-01-05   14.819643   14.948214   14.738214   14.929643   12.818838   \n",
       "2012-01-06   14.991786   15.098214   14.972143   15.085714   12.952841   \n",
       "2012-01-09   15.196429   15.276786   15.048214   15.061786   12.932299   \n",
       "...                ...         ...         ...         ...         ...   \n",
       "2021-08-11  146.050003  146.720001  145.529999  145.860001  145.860001   \n",
       "2021-08-12  146.190002  149.050003  145.839996  148.889999  148.889999   \n",
       "2021-08-13  148.970001  149.440002  148.270004  149.100006  149.100006   \n",
       "2021-08-16  148.539993  151.190002  146.470001  151.119995  151.119995   \n",
       "2021-08-17  150.229996  151.679993  149.089996  150.190002  150.190002   \n",
       "\n",
       "               Volume  \n",
       "Date                   \n",
       "2012-01-03  302220800  \n",
       "2012-01-04  260022000  \n",
       "2012-01-05  271269600  \n",
       "2012-01-06  318292800  \n",
       "2012-01-09  394024400  \n",
       "...               ...  \n",
       "2021-08-11   48493500  \n",
       "2021-08-12   72282600  \n",
       "2021-08-13   59318800  \n",
       "2021-08-16  103296000  \n",
       "2021-08-17   92229700  \n",
       "\n",
       "[2422 rows x 6 columns]"
      ]
     },
     "execution_count": 3,
     "metadata": {},
     "output_type": "execute_result"
    },
    {
     "name": "stderr",
     "output_type": "stream",
     "text": [
      "Exception in thread Thread-7:\n",
      "Traceback (most recent call last):\n",
      "  File \"c:\\users\\lalit\\miniconda3\\lib\\site-packages\\urllib3\\response.py\", line 438, in _error_catcher\n",
      "    yield\n",
      "  File \"c:\\users\\lalit\\miniconda3\\lib\\site-packages\\urllib3\\response.py\", line 767, in read_chunked\n",
      "    chunk = self._handle_chunk(amt)\n",
      "  File \"c:\\users\\lalit\\miniconda3\\lib\\site-packages\\urllib3\\response.py\", line 711, in _handle_chunk\n",
      "    value = self._fp._safe_read(amt)\n",
      "  File \"c:\\users\\lalit\\miniconda3\\lib\\http\\client.py\", line 609, in _safe_read\n",
      "    data = self.fp.read(amt)\n",
      "  File \"c:\\users\\lalit\\miniconda3\\lib\\socket.py\", line 704, in readinto\n",
      "    return self._sock.recv_into(b)\n",
      "  File \"c:\\users\\lalit\\miniconda3\\lib\\ssl.py\", line 1241, in recv_into\n",
      "    return self.read(nbytes, buffer)\n",
      "  File \"c:\\users\\lalit\\miniconda3\\lib\\ssl.py\", line 1099, in read\n",
      "    return self._sslobj.read(len, buffer)\n",
      "ConnectionAbortedError: [WinError 10053] An established connection was aborted by the software in your host machine\n",
      "\n",
      "During handling of the above exception, another exception occurred:\n",
      "\n",
      "Traceback (most recent call last):\n",
      "  File \"c:\\users\\lalit\\miniconda3\\lib\\site-packages\\requests\\models.py\", line 753, in generate\n",
      "    for chunk in self.raw.stream(chunk_size, decode_content=True):\n",
      "  File \"c:\\users\\lalit\\miniconda3\\lib\\site-packages\\urllib3\\response.py\", line 572, in stream\n",
      "    for line in self.read_chunked(amt, decode_content=decode_content):\n",
      "  File \"c:\\users\\lalit\\miniconda3\\lib\\site-packages\\urllib3\\response.py\", line 793, in read_chunked\n",
      "    self._original_response.close()\n",
      "  File \"c:\\users\\lalit\\miniconda3\\lib\\contextlib.py\", line 135, in __exit__\n",
      "    self.gen.throw(type, value, traceback)\n",
      "  File \"c:\\users\\lalit\\miniconda3\\lib\\site-packages\\urllib3\\response.py\", line 455, in _error_catcher\n",
      "    raise ProtocolError(\"Connection broken: %r\" % e, e)\n",
      "urllib3.exceptions.ProtocolError: (\"Connection broken: ConnectionAbortedError(10053, 'An established connection was aborted by the software in your host machine', None, 10053, None)\", ConnectionAbortedError(10053, 'An established connection was aborted by the software in your host machine', None, 10053, None))\n",
      "\n",
      "During handling of the above exception, another exception occurred:\n",
      "\n",
      "Traceback (most recent call last):\n",
      "  File \"c:\\users\\lalit\\miniconda3\\lib\\threading.py\", line 954, in _bootstrap_inner\n",
      "    self.run()\n",
      "  File \"c:\\users\\lalit\\miniconda3\\lib\\threading.py\", line 892, in run\n",
      "    self._target(*self._args, **self._kwargs)\n",
      "  File \"c:\\users\\lalit\\miniconda3\\lib\\site-packages\\multitasking\\__init__.py\", line 102, in _run_via_pool\n",
      "    return callee(*args, **kwargs)\n",
      "  File \"c:\\users\\lalit\\miniconda3\\lib\\site-packages\\yfinance\\multi.py\", line 169, in _download_one_threaded\n",
      "    data = _download_one(ticker, start, end, auto_adjust, back_adjust,\n",
      "  File \"c:\\users\\lalit\\miniconda3\\lib\\site-packages\\yfinance\\multi.py\", line 181, in _download_one\n",
      "    return Ticker(ticker).history(period=period, interval=interval,\n",
      "  File \"c:\\users\\lalit\\miniconda3\\lib\\site-packages\\yfinance\\base.py\", line 152, in history\n",
      "    data = self.session.get(\n",
      "  File \"c:\\users\\lalit\\miniconda3\\lib\\site-packages\\requests\\api.py\", line 76, in get\n",
      "    return request('get', url, params=params, **kwargs)\n",
      "  File \"c:\\users\\lalit\\miniconda3\\lib\\site-packages\\requests\\api.py\", line 61, in request\n",
      "    return session.request(method=method, url=url, **kwargs)\n",
      "  File \"c:\\users\\lalit\\miniconda3\\lib\\site-packages\\requests\\sessions.py\", line 542, in request\n",
      "    resp = self.send(prep, **send_kwargs)\n",
      "  File \"c:\\users\\lalit\\miniconda3\\lib\\site-packages\\requests\\sessions.py\", line 697, in send\n",
      "    r.content\n",
      "  File \"c:\\users\\lalit\\miniconda3\\lib\\site-packages\\requests\\models.py\", line 831, in content\n",
      "    self._content = b''.join(self.iter_content(CONTENT_CHUNK_SIZE)) or b''\n",
      "  File \"c:\\users\\lalit\\miniconda3\\lib\\site-packages\\requests\\models.py\", line 756, in generate\n",
      "    raise ChunkedEncodingError(e)\n",
      "requests.exceptions.ChunkedEncodingError: (\"Connection broken: ConnectionAbortedError(10053, 'An established connection was aborted by the software in your host machine', None, 10053, None)\", ConnectionAbortedError(10053, 'An established connection was aborted by the software in your host machine', None, 10053, None))\n"
     ]
    }
   ],
   "source": [
    "# Get the stock data from yahoo finance\n",
    "yf.pdr_override() \n",
    "df = pdr.get_data_yahoo(\"AAPL\", start=\"2012-01-01\", end=\"2021-08-18\")\n",
    "df # To see the data"
   ]
  },
  {
   "cell_type": "code",
   "execution_count": null,
   "id": "2d7305c0",
   "metadata": {},
   "outputs": [],
   "source": [
    "# visualizing the closing price history\n",
    "plt.figure(figsize = (16,8))\n",
    "plt.title(\"Close Price History\")\n",
    "plt.plot(df[\"Close\"])\n",
    "plt.xlabel('Date', fontsize = 18)\n",
    "plt.ylabel('Closing Price In USD($)',fontsize = 18)\n",
    "plt.show()"
   ]
  },
  {
   "cell_type": "code",
   "execution_count": 4,
   "id": "57295139",
   "metadata": {},
   "outputs": [
    {
     "data": {
      "text/plain": [
       "1938"
      ]
     },
     "execution_count": 4,
     "metadata": {},
     "output_type": "execute_result"
    }
   ],
   "source": [
    "# Select only close column\n",
    "data = df.filter(['Close'])\n",
    "dataset = data.values\n",
    "training_data_len = math.ceil(len(dataset) * 0.8)\n",
    "training_data_len"
   ]
  },
  {
   "cell_type": "code",
   "execution_count": 5,
   "id": "5e6d78eb",
   "metadata": {},
   "outputs": [
    {
     "data": {
      "text/plain": [
       "array([[0.00538946],\n",
       "       [0.00596485],\n",
       "       [0.00715991],\n",
       "       ...,\n",
       "       [0.9852741 ],\n",
       "       [1.        ],\n",
       "       [0.99322027]])"
      ]
     },
     "execution_count": 5,
     "metadata": {},
     "output_type": "execute_result"
    }
   ],
   "source": [
    "# Scale the data (Normalization)\n",
    "scaler = MinMaxScaler(feature_range = (0,1))\n",
    "scaled_data = scaler.fit_transform(dataset)\n",
    "scaled_data"
   ]
  },
  {
   "cell_type": "code",
   "execution_count": 6,
   "id": "284c9a4b",
   "metadata": {},
   "outputs": [
    {
     "name": "stdout",
     "output_type": "stream",
     "text": [
      "[array([0.00538946, 0.00596485, 0.00715991, 0.00829768, 0.00812324,\n",
      "       0.00851639, 0.00833674, 0.00803472, 0.00762335, 0.00889651,\n",
      "       0.0100447 , 0.00969061, 0.00775092, 0.00960209, 0.00777957,\n",
      "       0.01461403, 0.0140855 , 0.01477545, 0.01626731, 0.01717076,\n",
      "       0.01709526, 0.01681668, 0.01800392, 0.01912086, 0.02038622,\n",
      "       0.02243005, 0.02672339, 0.02678848, 0.02917859, 0.03096466,\n",
      "       0.02789502, 0.02907705, 0.02905362, 0.03236801, 0.03189675,\n",
      "       0.03276895, 0.03433632, 0.03520854, 0.03772102, 0.03955134,\n",
      "       0.04007987, 0.04026474, 0.03713521, 0.03638015, 0.03649211,\n",
      "       0.03943419, 0.04026214, 0.0420404 , 0.04623219, 0.05182474,\n",
      "       0.05077809, 0.05078069, 0.05482409, 0.05608945, 0.05518859,\n",
      "       0.05436586, 0.05350927, 0.056355  , 0.05830771, 0.05912524])]\n",
      "[0.05710484315773823]\n",
      "[array([0.00538946, 0.00596485, 0.00715991, 0.00829768, 0.00812324,\n",
      "       0.00851639, 0.00833674, 0.00803472, 0.00762335, 0.00889651,\n",
      "       0.0100447 , 0.00969061, 0.00775092, 0.00960209, 0.00777957,\n",
      "       0.01461403, 0.0140855 , 0.01477545, 0.01626731, 0.01717076,\n",
      "       0.01709526, 0.01681668, 0.01800392, 0.01912086, 0.02038622,\n",
      "       0.02243005, 0.02672339, 0.02678848, 0.02917859, 0.03096466,\n",
      "       0.02789502, 0.02907705, 0.02905362, 0.03236801, 0.03189675,\n",
      "       0.03276895, 0.03433632, 0.03520854, 0.03772102, 0.03955134,\n",
      "       0.04007987, 0.04026474, 0.03713521, 0.03638015, 0.03649211,\n",
      "       0.03943419, 0.04026214, 0.0420404 , 0.04623219, 0.05182474,\n",
      "       0.05077809, 0.05078069, 0.05482409, 0.05608945, 0.05518859,\n",
      "       0.05436586, 0.05350927, 0.056355  , 0.05830771, 0.05912524]), array([0.00596485, 0.00715991, 0.00829768, 0.00812324, 0.00851639,\n",
      "       0.00833674, 0.00803472, 0.00762335, 0.00889651, 0.0100447 ,\n",
      "       0.00969061, 0.00775092, 0.00960209, 0.00777957, 0.01461403,\n",
      "       0.0140855 , 0.01477545, 0.01626731, 0.01717076, 0.01709526,\n",
      "       0.01681668, 0.01800392, 0.01912086, 0.02038622, 0.02243005,\n",
      "       0.02672339, 0.02678848, 0.02917859, 0.03096466, 0.02789502,\n",
      "       0.02907705, 0.02905362, 0.03236801, 0.03189675, 0.03276895,\n",
      "       0.03433632, 0.03520854, 0.03772102, 0.03955134, 0.04007987,\n",
      "       0.04026474, 0.03713521, 0.03638015, 0.03649211, 0.03943419,\n",
      "       0.04026214, 0.0420404 , 0.04623219, 0.05182474, 0.05077809,\n",
      "       0.05078069, 0.05482409, 0.05608945, 0.05518859, 0.05436586,\n",
      "       0.05350927, 0.056355  , 0.05830771, 0.05912524, 0.05710484])]\n",
      "[0.05710484315773823, 0.054420532036443287]\n"
     ]
    }
   ],
   "source": [
    "# Creating the training data set\n",
    "train_data = scaled_data[0:training_data_len,:]\n",
    "x_train = []\n",
    "y_train = []\n",
    "\n",
    "for i in range(60, len(train_data)):\n",
    "    x_train.append(train_data[i-60:i, 0])\n",
    "    y_train.append(train_data[i,0])\n",
    "    if i<= 61:\n",
    "        print(x_train)\n",
    "        print(y_train)"
   ]
  },
  {
   "cell_type": "code",
   "execution_count": 7,
   "id": "30da7ee5",
   "metadata": {},
   "outputs": [],
   "source": [
    "# converting into numpy array\n",
    "x_train = np.array(x_train)\n",
    "y_train = np.array(y_train)"
   ]
  },
  {
   "cell_type": "code",
   "execution_count": 8,
   "id": "71a85a13",
   "metadata": {},
   "outputs": [
    {
     "data": {
      "text/plain": [
       "(1878, 60, 1)"
      ]
     },
     "execution_count": 8,
     "metadata": {},
     "output_type": "execute_result"
    }
   ],
   "source": [
    "# Reshape the data\n",
    "# LSTM module is requireding for 3 dim array so reshaping\n",
    "x_train = np.reshape(x_train, (x_train.shape[0], x_train.shape[1], 1)) \n",
    "x_train.shape"
   ]
  },
  {
   "cell_type": "code",
   "execution_count": 9,
   "id": "800adf53",
   "metadata": {},
   "outputs": [],
   "source": [
    "# Build the LSTM model\n",
    "model = Sequential()\n",
    "model.add(LSTM(50, return_sequences = True, input_shape = (x_train.shape[1],1)))\n",
    "model.add(LSTM(50, return_sequences = False))\n",
    "model.add(Dense(25))\n",
    "model.add(Dense(1))"
   ]
  },
  {
   "cell_type": "code",
   "execution_count": 10,
   "id": "48c6f5d8",
   "metadata": {},
   "outputs": [],
   "source": [
    "# compile the model\n",
    "model.compile(optimizer='adam', loss= 'mean_squared_error')"
   ]
  },
  {
   "cell_type": "code",
   "execution_count": 11,
   "id": "7c896593",
   "metadata": {},
   "outputs": [
    {
     "name": "stdout",
     "output_type": "stream",
     "text": [
      "1878/1878 [==============================] - 26s 13ms/step - loss: 1.8770e-04\n"
     ]
    },
    {
     "data": {
      "text/plain": [
       "<keras.callbacks.History at 0x22606a383a0>"
      ]
     },
     "execution_count": 11,
     "metadata": {},
     "output_type": "execute_result"
    }
   ],
   "source": [
    "# Train the model\n",
    "model.fit(x_train, y_train, batch_size=1,epochs=1)"
   ]
  },
  {
   "cell_type": "code",
   "execution_count": 12,
   "id": "5e696842",
   "metadata": {},
   "outputs": [],
   "source": [
    "# Create the testing data set\n",
    "# Create a new arry containing scaled values from index 1878 to 1938\n",
    "test_data = scaled_data[training_data_len - 60: , :]\n",
    "# create the data sets x_test and y_test\n",
    "x_test = []\n",
    "y_test = dataset[training_data_len: , :]\n",
    "for i in range(60, len(test_data)):\n",
    "    x_test.append(test_data[i-60:i, 0])"
   ]
  },
  {
   "cell_type": "code",
   "execution_count": 13,
   "id": "03e1dc0a",
   "metadata": {},
   "outputs": [],
   "source": [
    "# convert the data to a numpy array\n",
    "x_test = np.array(x_test)"
   ]
  },
  {
   "cell_type": "code",
   "execution_count": 14,
   "id": "afc0ed49",
   "metadata": {},
   "outputs": [],
   "source": [
    "# Reshape the data to 3 dim\n",
    "x_test = np.reshape(x_test, (x_test.shape[0], x_test.shape[1],1))"
   ]
  },
  {
   "cell_type": "code",
   "execution_count": 15,
   "id": "3ae7925b",
   "metadata": {},
   "outputs": [],
   "source": [
    "# Get the models predicted price values\n",
    "predictions = model.predict(x_test)\n",
    "predictions = scaler.inverse_transform(predictions)"
   ]
  },
  {
   "cell_type": "code",
   "execution_count": 16,
   "id": "c34bf866",
   "metadata": {},
   "outputs": [
    {
     "data": {
      "text/plain": [
       "0.5017081883328021"
      ]
     },
     "execution_count": 16,
     "metadata": {},
     "output_type": "execute_result"
    }
   ],
   "source": [
    "# Evaluating the model using root mean squared error (RMSE)\n",
    "rmse = np.sqrt(np.mean(predictions - y_test)**2)\n",
    "rmse"
   ]
  },
  {
   "cell_type": "code",
   "execution_count": 17,
   "id": "f43617e9",
   "metadata": {},
   "outputs": [
    {
     "name": "stderr",
     "output_type": "stream",
     "text": [
      "C:\\Users\\Lalit\\AppData\\Local\\Temp/ipykernel_23368/1606462354.py:4: SettingWithCopyWarning: \n",
      "A value is trying to be set on a copy of a slice from a DataFrame.\n",
      "Try using .loc[row_indexer,col_indexer] = value instead\n",
      "\n",
      "See the caveats in the documentation: https://pandas.pydata.org/pandas-docs/stable/user_guide/indexing.html#returning-a-view-versus-a-copy\n",
      "  valid['Predictions'] = predictions\n"
     ]
    }
   ],
   "source": [
    "# Plot the data\n",
    "train = data[:training_data_len]\n",
    "valid = data[training_data_len:]\n",
    "valid['Predictions'] = predictions"
   ]
  },
  {
   "cell_type": "code",
   "execution_count": 18,
   "id": "54894d4d",
   "metadata": {},
   "outputs": [
    {
     "data": {
      "image/png": "[encoded data removed]",
      "text/plain": [
       "<Figure size 1152x576 with 1 Axes>"
      ]
     },
     "metadata": {},
     "output_type": "display_data"
    }
   ],
   "source": [
    "# visulize the data\n",
    "plt.figure(figsize=(16,8))\n",
    "plt.title('Model')\n",
    "plt.xlabel(\"Date\", fontsize=18)\n",
    "plt.ylabel(\"Close Price USD($)\", fontsize = 18)\n",
    "plt.plot(train['Close'])\n",
    "plt.plot(valid[[\"Close\", \"Predictions\"]])\n",
    "plt.legend([\"Train\",\"Val\",\"Predictions\"],loc=\"lower right\")\n",
    "plt.show()"
   ]
  },
  {
   "cell_type": "code",
   "execution_count": 19,
   "id": "5531c10f",
   "metadata": {},
   "outputs": [
    {
     "data": {
      "text/html": [
       "<div>\n",
       "<style scoped>\n",
       "    .dataframe tbody tr th:only-of-type {\n",
       "        vertical-align: middle;\n",
       "    }\n",
       "\n",
       "    .dataframe tbody tr th {\n",
       "        vertical-align: top;\n",
       "    }\n",
       "\n",
       "    .dataframe thead th {\n",
       "        text-align: right;\n",
       "    }\n",
       "</style>\n",
       "<table border=\"1\" class=\"dataframe\">\n",
       "  <thead>\n",
       "    <tr style=\"text-align: right;\">\n",
       "      <th></th>\n",
       "      <th>Close</th>\n",
       "      <th>Predictions</th>\n",
       "    </tr>\n",
       "    <tr>\n",
       "      <th>Date</th>\n",
       "      <th></th>\n",
       "      <th></th>\n",
       "    </tr>\n",
       "  </thead>\n",
       "  <tbody>\n",
       "    <tr>\n",
       "      <th>2019-09-17</th>\n",
       "      <td>55.174999</td>\n",
       "      <td>56.863014</td>\n",
       "    </tr>\n",
       "    <tr>\n",
       "      <th>2019-09-18</th>\n",
       "      <td>55.692501</td>\n",
       "      <td>57.031673</td>\n",
       "    </tr>\n",
       "    <tr>\n",
       "      <th>2019-09-19</th>\n",
       "      <td>55.240002</td>\n",
       "      <td>57.219120</td>\n",
       "    </tr>\n",
       "    <tr>\n",
       "      <th>2019-09-20</th>\n",
       "      <td>54.432499</td>\n",
       "      <td>57.314777</td>\n",
       "    </tr>\n",
       "    <tr>\n",
       "      <th>2019-09-23</th>\n",
       "      <td>54.680000</td>\n",
       "      <td>57.227776</td>\n",
       "    </tr>\n",
       "    <tr>\n",
       "      <th>...</th>\n",
       "      <td>...</td>\n",
       "      <td>...</td>\n",
       "    </tr>\n",
       "    <tr>\n",
       "      <th>2021-08-11</th>\n",
       "      <td>145.860001</td>\n",
       "      <td>144.228180</td>\n",
       "    </tr>\n",
       "    <tr>\n",
       "      <th>2021-08-12</th>\n",
       "      <td>148.889999</td>\n",
       "      <td>144.100937</td>\n",
       "    </tr>\n",
       "    <tr>\n",
       "      <th>2021-08-13</th>\n",
       "      <td>149.100006</td>\n",
       "      <td>144.481186</td>\n",
       "    </tr>\n",
       "    <tr>\n",
       "      <th>2021-08-16</th>\n",
       "      <td>151.119995</td>\n",
       "      <td>145.021881</td>\n",
       "    </tr>\n",
       "    <tr>\n",
       "      <th>2021-08-17</th>\n",
       "      <td>150.190002</td>\n",
       "      <td>145.870804</td>\n",
       "    </tr>\n",
       "  </tbody>\n",
       "</table>\n",
       "<p>484 rows × 2 columns</p>\n",
       "</div>"
      ],
      "text/plain": [
       "                 Close  Predictions\n",
       "Date                               \n",
       "2019-09-17   55.174999    56.863014\n",
       "2019-09-18   55.692501    57.031673\n",
       "2019-09-19   55.240002    57.219120\n",
       "2019-09-20   54.432499    57.314777\n",
       "2019-09-23   54.680000    57.227776\n",
       "...                ...          ...\n",
       "2021-08-11  145.860001   144.228180\n",
       "2021-08-12  148.889999   144.100937\n",
       "2021-08-13  149.100006   144.481186\n",
       "2021-08-16  151.119995   145.021881\n",
       "2021-08-17  150.190002   145.870804\n",
       "\n",
       "[484 rows x 2 columns]"
      ]
     },
     "execution_count": 19,
     "metadata": {},
     "output_type": "execute_result"
    }
   ],
   "source": [
    "# Show the close and predicted prices\n",
    "valid"
   ]
  },
  {
   "cell_type": "code",
   "execution_count": 20,
   "id": "cc2f192f",
   "metadata": {},
   "outputs": [
    {
     "name": "stdout",
     "output_type": "stream",
     "text": [
      "[*********************100%***********************]  1 of 1 completed\n"
     ]
    }
   ],
   "source": [
    "# Loding the stock data\n",
    "apple_data = pdr.get_data_yahoo(\"AAPL\", start=\"2012-01-01\", end=\"2021-08-18\")\n",
    "new_df = apple_data.filter(['Close'])\n",
    "# Get the last 60 day closing price values and convert the dataframe to an array\n",
    "last_60_days = new_df[-60:].values"
   ]
  },
  {
   "cell_type": "code",
   "execution_count": 21,
   "id": "dd926501",
   "metadata": {},
   "outputs": [],
   "source": [
    "# Scale the data (Normalization)\n",
    "last_60_days_scaled = scaler.transform(last_60_days)"
   ]
  },
  {
   "cell_type": "code",
   "execution_count": 22,
   "id": "1f8a1c33",
   "metadata": {},
   "outputs": [
    {
     "name": "stdout",
     "output_type": "stream",
     "text": [
      "[[146.55017]]\n"
     ]
    }
   ],
   "source": [
    "X_test = []\n",
    "X_test.append(last_60_days_scaled)\n",
    "X_test = np.array(X_test) # convert to numpy array\n",
    "# Reshape the data\n",
    "X_test = np.reshape(X_test, (X_test.shape[0], X_test.shape[1],1))\n",
    "# Get the predicted scale price\n",
    "pred_price = model.predict(X_test)\n",
    "pred_price = scaler.inverse_transform(pred_price)\n",
    "print(pred_price)"
   ]
  },
  {
   "cell_type": "code",
   "execution_count": 23,
   "id": "df0f2778",
   "metadata": {},
   "outputs": [
    {
     "name": "stdout",
     "output_type": "stream",
     "text": [
      "[*********************100%***********************]  1 of 1 completed\n",
      "Date\n",
      "2021-08-17    150.190002\n",
      "Name: Close, dtype: float64\n"
     ]
    }
   ],
   "source": [
    "apple_data2 = pdr.get_data_yahoo(\"AAPL\", start=\"2021-08-18\", end=\"2021-08-18\")\n",
    "print(apple_data2[\"Close\"]) # Printing actual value of the stock"
   ]
  },
  {
   "cell_type": "code",
   "execution_count": null,
   "id": "dec0e6c8",
   "metadata": {},
   "outputs": [],
   "source": []
  }
 ],
 "metadata": {
  "kernelspec": {
   "display_name": "Python 3 (ipykernel)",
   "language": "python",
   "name": "python3"
  },
  "language_info": {
   "codemirror_mode": {
    "name": "ipython",
    "version": 3
   },
   "file_extension": ".py",
   "mimetype": "text/x-python",
   "name": "python",
   "nbconvert_exporter": "python",
   "pygments_lexer": "ipython3",
   "version": "3.9.5"
  }
 },
 "nbformat": 4,
 "nbformat_minor": 5
}
